{
 "cells": [
  {
   "cell_type": "code",
   "execution_count": 1,
   "metadata": {},
   "outputs": [],
   "source": [
    "# required module\n",
    "# !pip install protobuf numpy\n",
    "\n",
    "# required for this example\n",
    "# !pip install onnx chainer"
   ]
  },
  {
   "cell_type": "code",
   "execution_count": 2,
   "metadata": {},
   "outputs": [],
   "source": [
    "from graphviewer.proto.attr_value_pb2 import AttrValue\n",
    "from graphviewer.proto.graph_pb2 import GraphDef\n",
    "from graphviewer.proto.node_def_pb2 import NodeDef\n",
    "from graphviewer.proto.tensor_shape_pb2 import TensorShapeProto\n",
    "from graphviewer.proto.versions_pb2 import VersionDef\n",
    "\n",
    "def get_graphdef_from_file(path):\n",
    "    import onnx\n",
    "    model = onnx.load(path)\n",
    "    return parse(model.graph)\n",
    "\n",
    "\n",
    "def parse(graph):\n",
    "    nodes_proto, nodes = [], []\n",
    "    import itertools\n",
    "    for node in itertools.chain(graph.input, graph.output):\n",
    "        nodes_proto.append(node)\n",
    "\n",
    "    for node in nodes_proto:\n",
    "        shapeproto = TensorShapeProto(\n",
    "            dim=[TensorShapeProto.Dim(size=d.dim_value) for d in node.type.tensor_type.shape.dim])\n",
    "        nodes.append(NodeDef(\n",
    "            name=node.name.encode(encoding='utf_8'),\n",
    "            op='Variable',\n",
    "            input=[],\n",
    "            attr={\n",
    "                'dtype': AttrValue(type=node.type.tensor_type.elem_type),\n",
    "                'shape': AttrValue(shape=shapeproto),\n",
    "            }\n",
    "        ))\n",
    "\n",
    "    for node in graph.node:\n",
    "        attr = []\n",
    "        for s in node.attribute:\n",
    "            attr.append(' = '.join([str(f[1]) for f in s.ListFields()]))\n",
    "        attr = ', '.join(attr).encode(encoding='utf_8')\n",
    "        nodes.append(NodeDef(\n",
    "            name=node.output[0].encode(encoding='utf_8'),\n",
    "            op=node.op_type,\n",
    "            input=node.input,\n",
    "            attr={'parameters': AttrValue(s=attr)},\n",
    "        ))\n",
    "    mapping = {}\n",
    "    for node in nodes:\n",
    "        mapping[node.name] = node.op + '_' + node.name\n",
    "\n",
    "    return GraphDef(node=nodes, versions=VersionDef(producer=22))"
   ]
  },
  {
   "cell_type": "code",
   "execution_count": 3,
   "metadata": {},
   "outputs": [],
   "source": [
    "from IPython.display import display\n",
    "from IPython.display import HTML\n",
    "import numpy\n",
    "\n",
    "from graphviewer.proto.graph_pb2 import GraphDef\n",
    "\n",
    "\n",
    "def strip_consts(graph_def, max_const_size=32):\n",
    "    \"\"\"Strip large constant values from graph_def.\"\"\"\n",
    "    strip_def = GraphDef()\n",
    "    for n0 in graph_def.node:\n",
    "        n = strip_def.node.add()\n",
    "        n.MergeFrom(n0)\n",
    "        if n.op == 'Const':\n",
    "            tensor = n.attr['value'].tensor\n",
    "            size = len(tensor.tensor_content)\n",
    "            if size > max_const_size:\n",
    "                tensor.tensor_content = '<stripped {:d} bytes>'.format(size)\n",
    "    return strip_def\n",
    "\n",
    "\n",
    "def show_graph(graph_def, max_const_size=32):\n",
    "    \"\"\"Visualize TensorFlow graph.\"\"\"\n",
    "    if hasattr(graph_def, 'as_graph_def'):\n",
    "        graph_def = graph_def.as_graph_def()\n",
    "    strip_def = strip_consts(graph_def, max_const_size=max_const_size)\n",
    "    code = \"\"\"\n",
    "        <script>\n",
    "        function load() {{\n",
    "            document.getElementById(\"{id}\").pbtxt = {data};\n",
    "        }}\n",
    "        </script>\n",
    "        <link rel=\"import\" href=\"https://tensorboard.appspot.com/tf-graph-basic.build.html\"\n",
    "          onload=load()>\n",
    "        <div style=\"height:600px\">\n",
    "        <tf-graph-basic id=\"{id}\"></tf-graph-basic>\n",
    "        </div>\n",
    "    \"\"\".format(data=repr(str(strip_def)), id='graph'+str(numpy.random.rand()))\n",
    "\n",
    "    iframe = \"\"\"\n",
    "        <iframe seamless style=\"width:960px;height:720px;border:0\" srcdoc=\"{}\"></iframe>\n",
    "    \"\"\".format(code.replace('\"', '&quot;'))\n",
    "    display(HTML(iframe))"
   ]
  },
  {
   "cell_type": "code",
   "execution_count": 4,
   "metadata": {},
   "outputs": [
    {
     "data": {
      "text/html": [
       "\n",
       "        <iframe seamless style=\"width:960px;height:720px;border:0\" srcdoc=\"\n",
       "        <script>\n",
       "        function load() {\n",
       "            document.getElementById(&quot;graph0.5676461689464474&quot;).pbtxt = 'node {\\n  name: &quot;Input3&quot;\\n  op: &quot;Variable&quot;\\n  attr {\\n    key: &quot;dtype&quot;\\n    value {\\n      type: DT_FLOAT\\n    }\\n  }\\n  attr {\\n    key: &quot;shape&quot;\\n    value {\\n      shape {\\n        dim {\\n          size: 1\\n        }\\n        dim {\\n          size: 1\\n        }\\n        dim {\\n          size: 28\\n        }\\n        dim {\\n          size: 28\\n        }\\n      }\\n    }\\n  }\\n}\\nnode {\\n  name: &quot;Parameter5&quot;\\n  op: &quot;Variable&quot;\\n  attr {\\n    key: &quot;dtype&quot;\\n    value {\\n      type: DT_FLOAT\\n    }\\n  }\\n  attr {\\n    key: &quot;shape&quot;\\n    value {\\n      shape {\\n        dim {\\n          size: 8\\n        }\\n        dim {\\n          size: 1\\n        }\\n        dim {\\n          size: 5\\n        }\\n        dim {\\n          size: 5\\n        }\\n      }\\n    }\\n  }\\n}\\nnode {\\n  name: &quot;Parameter6&quot;\\n  op: &quot;Variable&quot;\\n  attr {\\n    key: &quot;dtype&quot;\\n    value {\\n      type: DT_FLOAT\\n    }\\n  }\\n  attr {\\n    key: &quot;shape&quot;\\n    value {\\n      shape {\\n        dim {\\n          size: 8\\n        }\\n        dim {\\n          size: 1\\n        }\\n        dim {\\n          size: 1\\n        }\\n      }\\n    }\\n  }\\n}\\nnode {\\n  name: &quot;Parameter87&quot;\\n  op: &quot;Variable&quot;\\n  attr {\\n    key: &quot;dtype&quot;\\n    value {\\n      type: DT_FLOAT\\n    }\\n  }\\n  attr {\\n    key: &quot;shape&quot;\\n    value {\\n      shape {\\n        dim {\\n          size: 16\\n        }\\n        dim {\\n          size: 8\\n        }\\n        dim {\\n          size: 5\\n        }\\n        dim {\\n          size: 5\\n        }\\n      }\\n    }\\n  }\\n}\\nnode {\\n  name: &quot;Parameter88&quot;\\n  op: &quot;Variable&quot;\\n  attr {\\n    key: &quot;dtype&quot;\\n    value {\\n      type: DT_FLOAT\\n    }\\n  }\\n  attr {\\n    key: &quot;shape&quot;\\n    value {\\n      shape {\\n        dim {\\n          size: 16\\n        }\\n        dim {\\n          size: 1\\n        }\\n        dim {\\n          size: 1\\n        }\\n      }\\n    }\\n  }\\n}\\nnode {\\n  name: &quot;Pooling160_Output_0_reshape0_shape&quot;\\n  op: &quot;Variable&quot;\\n  attr {\\n    key: &quot;dtype&quot;\\n    value {\\n      type: DT_STRING\\n    }\\n  }\\n  attr {\\n    key: &quot;shape&quot;\\n    value {\\n      shape {\\n        dim {\\n          size: 2\\n        }\\n      }\\n    }\\n  }\\n}\\nnode {\\n  name: &quot;Parameter193&quot;\\n  op: &quot;Variable&quot;\\n  attr {\\n    key: &quot;dtype&quot;\\n    value {\\n      type: DT_FLOAT\\n    }\\n  }\\n  attr {\\n    key: &quot;shape&quot;\\n    value {\\n      shape {\\n        dim {\\n          size: 16\\n        }\\n        dim {\\n          size: 4\\n        }\\n        dim {\\n          size: 4\\n        }\\n        dim {\\n          size: 10\\n        }\\n      }\\n    }\\n  }\\n}\\nnode {\\n  name: &quot;Parameter193_reshape1_shape&quot;\\n  op: &quot;Variable&quot;\\n  attr {\\n    key: &quot;dtype&quot;\\n    value {\\n      type: DT_STRING\\n    }\\n  }\\n  attr {\\n    key: &quot;shape&quot;\\n    value {\\n      shape {\\n        dim {\\n          size: 2\\n        }\\n      }\\n    }\\n  }\\n}\\nnode {\\n  name: &quot;Parameter194&quot;\\n  op: &quot;Variable&quot;\\n  attr {\\n    key: &quot;dtype&quot;\\n    value {\\n      type: DT_FLOAT\\n    }\\n  }\\n  attr {\\n    key: &quot;shape&quot;\\n    value {\\n      shape {\\n        dim {\\n          size: 1\\n        }\\n        dim {\\n          size: 10\\n        }\\n      }\\n    }\\n  }\\n}\\nnode {\\n  name: &quot;Plus214_Output_0&quot;\\n  op: &quot;Variable&quot;\\n  attr {\\n    key: &quot;dtype&quot;\\n    value {\\n      type: DT_FLOAT\\n    }\\n  }\\n  attr {\\n    key: &quot;shape&quot;\\n    value {\\n      shape {\\n        dim {\\n          size: 1\\n        }\\n        dim {\\n          size: 10\\n        }\\n      }\\n    }\\n  }\\n}\\nnode {\\n  name: &quot;Parameter193_reshape1&quot;\\n  op: &quot;Reshape&quot;\\n  input: &quot;Parameter193&quot;\\n  input: &quot;Parameter193_reshape1_shape&quot;\\n  attr {\\n    key: &quot;parameters&quot;\\n    value {\\n      s: &quot;&quot;\\n    }\\n  }\\n}\\nnode {\\n  name: &quot;Convolution28_Output_0&quot;\\n  op: &quot;Conv&quot;\\n  input: &quot;Input3&quot;\\n  input: &quot;Parameter5&quot;\\n  attr {\\n    key: &quot;parameters&quot;\\n    value {\\n      s: &quot;kernel_shape = [5, 5] = 7, strides = [1, 1] = 7, auto_pad = b\\\\\\'SAME_UPPER\\\\\\' = 3, group = 1 = 2, dilations = [1, 1] = 7&quot;\\n    }\\n  }\\n}\\nnode {\\n  name: &quot;Plus30_Output_0&quot;\\n  op: &quot;Add&quot;\\n  input: &quot;Convolution28_Output_0&quot;\\n  input: &quot;Parameter6&quot;\\n  attr {\\n    key: &quot;parameters&quot;\\n    value {\\n      s: &quot;&quot;\\n    }\\n  }\\n}\\nnode {\\n  name: &quot;ReLU32_Output_0&quot;\\n  op: &quot;Relu&quot;\\n  input: &quot;Plus30_Output_0&quot;\\n  attr {\\n    key: &quot;parameters&quot;\\n    value {\\n      s: &quot;&quot;\\n    }\\n  }\\n}\\nnode {\\n  name: &quot;Pooling66_Output_0&quot;\\n  op: &quot;MaxPool&quot;\\n  input: &quot;ReLU32_Output_0&quot;\\n  attr {\\n    key: &quot;parameters&quot;\\n    value {\\n      s: &quot;kernel_shape = [2, 2] = 7, strides = [2, 2] = 7, pads = [0, 0, 0, 0] = 7, auto_pad = b\\\\\\'NOTSET\\\\\\' = 3&quot;\\n    }\\n  }\\n}\\nnode {\\n  name: &quot;Convolution110_Output_0&quot;\\n  op: &quot;Conv&quot;\\n  input: &quot;Pooling66_Output_0&quot;\\n  input: &quot;Parameter87&quot;\\n  attr {\\n    key: &quot;parameters&quot;\\n    value {\\n      s: &quot;kernel_shape = [5, 5] = 7, strides = [1, 1] = 7, auto_pad = b\\\\\\'SAME_UPPER\\\\\\' = 3, group = 1 = 2, dilations = [1, 1] = 7&quot;\\n    }\\n  }\\n}\\nnode {\\n  name: &quot;Plus112_Output_0&quot;\\n  op: &quot;Add&quot;\\n  input: &quot;Convolution110_Output_0&quot;\\n  input: &quot;Parameter88&quot;\\n  attr {\\n    key: &quot;parameters&quot;\\n    value {\\n      s: &quot;&quot;\\n    }\\n  }\\n}\\nnode {\\n  name: &quot;ReLU114_Output_0&quot;\\n  op: &quot;Relu&quot;\\n  input: &quot;Plus112_Output_0&quot;\\n  attr {\\n    key: &quot;parameters&quot;\\n    value {\\n      s: &quot;&quot;\\n    }\\n  }\\n}\\nnode {\\n  name: &quot;Pooling160_Output_0&quot;\\n  op: &quot;MaxPool&quot;\\n  input: &quot;ReLU114_Output_0&quot;\\n  attr {\\n    key: &quot;parameters&quot;\\n    value {\\n      s: &quot;kernel_shape = [3, 3] = 7, strides = [3, 3] = 7, pads = [0, 0, 0, 0] = 7, auto_pad = b\\\\\\'NOTSET\\\\\\' = 3&quot;\\n    }\\n  }\\n}\\nnode {\\n  name: &quot;Pooling160_Output_0_reshape0&quot;\\n  op: &quot;Reshape&quot;\\n  input: &quot;Pooling160_Output_0&quot;\\n  input: &quot;Pooling160_Output_0_reshape0_shape&quot;\\n  attr {\\n    key: &quot;parameters&quot;\\n    value {\\n      s: &quot;&quot;\\n    }\\n  }\\n}\\nnode {\\n  name: &quot;Times212_Output_0&quot;\\n  op: &quot;MatMul&quot;\\n  input: &quot;Pooling160_Output_0_reshape0&quot;\\n  input: &quot;Parameter193_reshape1&quot;\\n  attr {\\n    key: &quot;parameters&quot;\\n    value {\\n      s: &quot;&quot;\\n    }\\n  }\\n}\\nnode {\\n  name: &quot;Plus214_Output_0&quot;\\n  op: &quot;Add&quot;\\n  input: &quot;Times212_Output_0&quot;\\n  input: &quot;Parameter194&quot;\\n  attr {\\n    key: &quot;parameters&quot;\\n    value {\\n      s: &quot;&quot;\\n    }\\n  }\\n}\\n';\n",
       "        }\n",
       "        </script>\n",
       "        <link rel=&quot;import&quot; href=&quot;https://tensorboard.appspot.com/tf-graph-basic.build.html&quot;\n",
       "          onload=load()>\n",
       "        <div style=&quot;height:600px&quot;>\n",
       "        <tf-graph-basic id=&quot;graph0.5676461689464474&quot;></tf-graph-basic>\n",
       "        </div>\n",
       "    \"></iframe>\n",
       "    "
      ],
      "text/plain": [
       "<IPython.core.display.HTML object>"
      ]
     },
     "metadata": {},
     "output_type": "display_data"
    }
   ],
   "source": [
    "gdef = get_graphdef_from_file('model.onnx')\n",
    "show_graph(gdef)"
   ]
  },
  {
   "cell_type": "code",
   "execution_count": 5,
   "metadata": {},
   "outputs": [],
   "source": [
    "from collections import Counter\n",
    "\n",
    "import chainer\n",
    "from chainer.computational_graph import build_computational_graph\n",
    "\n",
    "from graphviewer.parser.dtypes import convert_dtype\n",
    "\n",
    "\n",
    "def parse(outputs):\n",
    "    cgraph = build_computational_graph([outputs])\n",
    "\n",
    "    nodes = []\n",
    "    input_dict = {}\n",
    "    for head, tail in cgraph.edges:\n",
    "        input_dict.setdefault(id(tail), []).append(head)\n",
    "\n",
    "    name_cnt = Counter()\n",
    "    id_to_name = {}\n",
    "\n",
    "    def name_resolver(node):\n",
    "        name = id_to_name.get(id(node), None)\n",
    "        if name is not None:\n",
    "            return name\n",
    "        if isinstance(node, chainer.variable.VariableNode):\n",
    "            name = 'Variable{:d}'.format(name_cnt['Variable'])\n",
    "            name_cnt['Variable'] += 1\n",
    "        else:\n",
    "            name = '{}{:d}'.format(node.label, name_cnt[node.label])\n",
    "            name_cnt[node.label] += 1\n",
    "        id_to_name[id(node)] = name\n",
    "        return name\n",
    "\n",
    "    for node in cgraph.nodes:\n",
    "        assert isinstance(node, (\n",
    "            chainer.variable.VariableNode, chainer.function_node.FunctionNode))\n",
    "\n",
    "        if id(node) not in input_dict:\n",
    "            shpeproto = TensorShapeProto(\n",
    "                dim=[TensorShapeProto.Dim(size=s) for s in node.shape])\n",
    "            nodes.append(NodeDef(\n",
    "                name=name_resolver(node).encode(encoding='utf_8'),\n",
    "                op='Variable',\n",
    "                input=[],\n",
    "                attr={\n",
    "                    'dtype': AttrValue(type=convert_dtype(node.dtype)),\n",
    "                    'shpae': AttrValue(shape=shpeproto),\n",
    "                }\n",
    "            ))\n",
    "        else:\n",
    "            inputs = [name_resolver(n).encode(encoding='utf_8') for n in input_dict[id(node)]]\n",
    "            attr = node.label.encode(encoding='utf_8')  # TODO\n",
    "            nodes.append(NodeDef(\n",
    "                name=name_resolver(node).encode(encoding='utf_8'),\n",
    "                op=node.__class__.__name__,\n",
    "                input=inputs,\n",
    "                attr={'parameters': AttrValue(s=attr)},\n",
    "            ))\n",
    "    return GraphDef(node=nodes, versions=VersionDef(producer=22))"
   ]
  },
  {
   "cell_type": "code",
   "execution_count": 6,
   "metadata": {},
   "outputs": [],
   "source": [
    "import chainer.functions as F\n",
    "import chainer.links as L\n",
    "\n",
    "# Network definition\n",
    "class Net(chainer.Chain):\n",
    "\n",
    "    def __init__(self):\n",
    "        super(Net, self).__init__()\n",
    "        with self.init_scope():\n",
    "            # the size of the inputs to each layer will be inferred\n",
    "            self.conv1 = L.Convolution2D(None, 10, ksize=5)\n",
    "            self.conv2 = L.Convolution2D(None, 20, ksize=5)\n",
    "            self.l1 = L.Linear(None, 50)\n",
    "            self.l2 = L.Linear(None, 10)\n",
    "\n",
    "    def forward(self, x):\n",
    "        x = F.relu(F.max_pooling_2d(self.conv1(x), 2))\n",
    "        x = F.relu(F.max_pooling_2d(self.conv2(x), 2))\n",
    "        x = F.relu(self.l1(x))\n",
    "        x = F.dropout(x)\n",
    "        return self.l2(x)\n",
    "\n",
    "model = L.Classifier(Net())"
   ]
  },
  {
   "cell_type": "code",
   "execution_count": 7,
   "metadata": {},
   "outputs": [],
   "source": [
    "x = chainer.Variable(numpy.random.rand(1, 1, 28, 28).astype(numpy.float32))\n",
    "t = chainer.Variable(numpy.random.rand(1).astype(numpy.int32))\n",
    "y = model(x, t)"
   ]
  },
  {
   "cell_type": "code",
   "execution_count": 8,
   "metadata": {},
   "outputs": [
    {
     "data": {
      "text/html": [
       "\n",
       "        <iframe seamless style=\"width:960px;height:720px;border:0\" srcdoc=\"\n",
       "        <script>\n",
       "        function load() {\n",
       "            document.getElementById(&quot;graph0.6942487973885441&quot;).pbtxt = 'node {\\n  name: &quot;Variable0&quot;\\n  op: &quot;VariableNode&quot;\\n  input: &quot;Reshape0&quot;\\n  attr {\\n    key: &quot;parameters&quot;\\n    value {\\n      s: &quot;(1, 320), float32&quot;\\n    }\\n  }\\n}\\nnode {\\n  name: &quot;Reshape0&quot;\\n  op: &quot;Reshape&quot;\\n  input: &quot;Variable1&quot;\\n  attr {\\n    key: &quot;parameters&quot;\\n    value {\\n      s: &quot;Reshape&quot;\\n    }\\n  }\\n}\\nnode {\\n  name: &quot;Variable2&quot;\\n  op: &quot;VariableNode&quot;\\n  input: &quot;ReLU0&quot;\\n  attr {\\n    key: &quot;parameters&quot;\\n    value {\\n      s: &quot;(1, 10, 12, 12), float32&quot;\\n    }\\n  }\\n}\\nnode {\\n  name: &quot;ReLU1&quot;\\n  op: &quot;ReLU&quot;\\n  input: &quot;Variable3&quot;\\n  attr {\\n    key: &quot;parameters&quot;\\n    value {\\n      s: &quot;ReLU&quot;\\n    }\\n  }\\n}\\nnode {\\n  name: &quot;Variable4&quot;\\n  op: &quot;Variable&quot;\\n  attr {\\n    key: &quot;dtype&quot;\\n    value {\\n      type: DT_FLOAT\\n    }\\n  }\\n  attr {\\n    key: &quot;shpae&quot;\\n    value {\\n      shape {\\n        dim {\\n          size: 10\\n        }\\n        dim {\\n          size: 1\\n        }\\n        dim {\\n          size: 5\\n        }\\n        dim {\\n          size: 5\\n        }\\n      }\\n    }\\n  }\\n}\\nnode {\\n  name: &quot;LinearFunction0&quot;\\n  op: &quot;LinearFunction&quot;\\n  input: &quot;Variable5&quot;\\n  input: &quot;Variable0&quot;\\n  input: &quot;Variable6&quot;\\n  attr {\\n    key: &quot;parameters&quot;\\n    value {\\n      s: &quot;LinearFunction&quot;\\n    }\\n  }\\n}\\nnode {\\n  name: &quot;Variable7&quot;\\n  op: &quot;VariableNode&quot;\\n  input: &quot;MaxPooling2D0&quot;\\n  attr {\\n    key: &quot;parameters&quot;\\n    value {\\n      s: &quot;(1, 10, 12, 12), float32&quot;\\n    }\\n  }\\n}\\nnode {\\n  name: &quot;Variable8&quot;\\n  op: &quot;VariableNode&quot;\\n  input: &quot;Convolution2DFunction0&quot;\\n  attr {\\n    key: &quot;parameters&quot;\\n    value {\\n      s: &quot;(1, 10, 24, 24), float32&quot;\\n    }\\n  }\\n}\\nnode {\\n  name: &quot;Variable9&quot;\\n  op: &quot;VariableNode&quot;\\n  input: &quot;Dropout0&quot;\\n  attr {\\n    key: &quot;parameters&quot;\\n    value {\\n      s: &quot;(1, 50), float32&quot;\\n    }\\n  }\\n}\\nnode {\\n  name: &quot;Variable1&quot;\\n  op: &quot;VariableNode&quot;\\n  input: &quot;ReLU2&quot;\\n  attr {\\n    key: &quot;parameters&quot;\\n    value {\\n      s: &quot;(1, 20, 4, 4), float32&quot;\\n    }\\n  }\\n}\\nnode {\\n  name: &quot;Variable5&quot;\\n  op: &quot;Variable&quot;\\n  attr {\\n    key: &quot;dtype&quot;\\n    value {\\n      type: DT_FLOAT\\n    }\\n  }\\n  attr {\\n    key: &quot;shpae&quot;\\n    value {\\n      shape {\\n        dim {\\n          size: 50\\n        }\\n        dim {\\n          size: 320\\n        }\\n      }\\n    }\\n  }\\n}\\nnode {\\n  name: &quot;Convolution2DFunction0&quot;\\n  op: &quot;Convolution2DFunction&quot;\\n  input: &quot;Variable10&quot;\\n  input: &quot;Variable11&quot;\\n  input: &quot;Variable4&quot;\\n  attr {\\n    key: &quot;parameters&quot;\\n    value {\\n      s: &quot;Convolution2DFunction&quot;\\n    }\\n  }\\n}\\nnode {\\n  name: &quot;Variable3&quot;\\n  op: &quot;VariableNode&quot;\\n  input: &quot;LinearFunction0&quot;\\n  attr {\\n    key: &quot;parameters&quot;\\n    value {\\n      s: &quot;(1, 50), float32&quot;\\n    }\\n  }\\n}\\nnode {\\n  name: &quot;Variable12&quot;\\n  op: &quot;VariableNode&quot;\\n  input: &quot;MaxPooling2D1&quot;\\n  attr {\\n    key: &quot;parameters&quot;\\n    value {\\n      s: &quot;(1, 20, 4, 4), float32&quot;\\n    }\\n  }\\n}\\nnode {\\n  name: &quot;Variable13&quot;\\n  op: &quot;VariableNode&quot;\\n  input: &quot;ReLU1&quot;\\n  attr {\\n    key: &quot;parameters&quot;\\n    value {\\n      s: &quot;(1, 50), float32&quot;\\n    }\\n  }\\n}\\nnode {\\n  name: &quot;Variable6&quot;\\n  op: &quot;Variable&quot;\\n  attr {\\n    key: &quot;dtype&quot;\\n    value {\\n      type: DT_FLOAT\\n    }\\n  }\\n  attr {\\n    key: &quot;shpae&quot;\\n    value {\\n      shape {\\n        dim {\\n          size: 50\\n        }\\n      }\\n    }\\n  }\\n}\\nnode {\\n  name: &quot;ReLU2&quot;\\n  op: &quot;ReLU&quot;\\n  input: &quot;Variable12&quot;\\n  attr {\\n    key: &quot;parameters&quot;\\n    value {\\n      s: &quot;ReLU&quot;\\n    }\\n  }\\n}\\nnode {\\n  name: &quot;Variable14&quot;\\n  op: &quot;VariableNode&quot;\\n  input: &quot;Convolution2DFunction1&quot;\\n  attr {\\n    key: &quot;parameters&quot;\\n    value {\\n      s: &quot;(1, 20, 8, 8), float32&quot;\\n    }\\n  }\\n}\\nnode {\\n  name: &quot;Variable15&quot;\\n  op: &quot;VariableNode&quot;\\n  input: &quot;LinearFunction1&quot;\\n  attr {\\n    key: &quot;parameters&quot;\\n    value {\\n      s: &quot;(1, 10), float32&quot;\\n    }\\n  }\\n}\\nnode {\\n  name: &quot;LinearFunction1&quot;\\n  op: &quot;LinearFunction&quot;\\n  input: &quot;Variable9&quot;\\n  input: &quot;Variable16&quot;\\n  input: &quot;Variable17&quot;\\n  attr {\\n    key: &quot;parameters&quot;\\n    value {\\n      s: &quot;LinearFunction&quot;\\n    }\\n  }\\n}\\nnode {\\n  name: &quot;Dropout0&quot;\\n  op: &quot;Dropout&quot;\\n  input: &quot;Variable13&quot;\\n  attr {\\n    key: &quot;parameters&quot;\\n    value {\\n      s: &quot;Dropout&quot;\\n    }\\n  }\\n}\\nnode {\\n  name: &quot;Variable10&quot;\\n  op: &quot;Variable&quot;\\n  attr {\\n    key: &quot;dtype&quot;\\n    value {\\n      type: DT_FLOAT\\n    }\\n  }\\n  attr {\\n    key: &quot;shpae&quot;\\n    value {\\n      shape {\\n        dim {\\n          size: 1\\n        }\\n        dim {\\n          size: 1\\n        }\\n        dim {\\n          size: 28\\n        }\\n        dim {\\n          size: 28\\n        }\\n      }\\n    }\\n  }\\n}\\nnode {\\n  name: &quot;SoftmaxCrossEntropy0&quot;\\n  op: &quot;FunctionAdapter&quot;\\n  input: &quot;Variable18&quot;\\n  input: &quot;Variable15&quot;\\n  attr {\\n    key: &quot;parameters&quot;\\n    value {\\n      s: &quot;SoftmaxCrossEntropy&quot;\\n    }\\n  }\\n}\\nnode {\\n  name: &quot;Variable16&quot;\\n  op: &quot;Variable&quot;\\n  attr {\\n    key: &quot;dtype&quot;\\n    value {\\n      type: DT_FLOAT\\n    }\\n  }\\n  attr {\\n    key: &quot;shpae&quot;\\n    value {\\n      shape {\\n        dim {\\n          size: 10\\n        }\\n        dim {\\n          size: 50\\n        }\\n      }\\n    }\\n  }\\n}\\nnode {\\n  name: &quot;ReLU0&quot;\\n  op: &quot;ReLU&quot;\\n  input: &quot;Variable7&quot;\\n  attr {\\n    key: &quot;parameters&quot;\\n    value {\\n      s: &quot;ReLU&quot;\\n    }\\n  }\\n}\\nnode {\\n  name: &quot;MaxPooling2D1&quot;\\n  op: &quot;MaxPooling2D&quot;\\n  input: &quot;Variable14&quot;\\n  attr {\\n    key: &quot;parameters&quot;\\n    value {\\n      s: &quot;MaxPooling2D&quot;\\n    }\\n  }\\n}\\nnode {\\n  name: &quot;Variable17&quot;\\n  op: &quot;Variable&quot;\\n  attr {\\n    key: &quot;dtype&quot;\\n    value {\\n      type: DT_FLOAT\\n    }\\n  }\\n  attr {\\n    key: &quot;shpae&quot;\\n    value {\\n      shape {\\n        dim {\\n          size: 10\\n        }\\n      }\\n    }\\n  }\\n}\\nnode {\\n  name: &quot;Variable19&quot;\\n  op: &quot;VariableNode&quot;\\n  input: &quot;SoftmaxCrossEntropy0&quot;\\n  attr {\\n    key: &quot;parameters&quot;\\n    value {\\n      s: &quot;float32&quot;\\n    }\\n  }\\n}\\nnode {\\n  name: &quot;Variable11&quot;\\n  op: &quot;Variable&quot;\\n  attr {\\n    key: &quot;dtype&quot;\\n    value {\\n      type: DT_FLOAT\\n    }\\n  }\\n  attr {\\n    key: &quot;shpae&quot;\\n    value {\\n      shape {\\n        dim {\\n          size: 10\\n        }\\n      }\\n    }\\n  }\\n}\\nnode {\\n  name: &quot;MaxPooling2D0&quot;\\n  op: &quot;MaxPooling2D&quot;\\n  input: &quot;Variable8&quot;\\n  attr {\\n    key: &quot;parameters&quot;\\n    value {\\n      s: &quot;MaxPooling2D&quot;\\n    }\\n  }\\n}\\nnode {\\n  name: &quot;Convolution2DFunction1&quot;\\n  op: &quot;Convolution2DFunction&quot;\\n  input: &quot;Variable20&quot;\\n  input: &quot;Variable2&quot;\\n  input: &quot;Variable21&quot;\\n  attr {\\n    key: &quot;parameters&quot;\\n    value {\\n      s: &quot;Convolution2DFunction&quot;\\n    }\\n  }\\n}\\nnode {\\n  name: &quot;Variable18&quot;\\n  op: &quot;Variable&quot;\\n  attr {\\n    key: &quot;dtype&quot;\\n    value {\\n      type: DT_INT32\\n    }\\n  }\\n  attr {\\n    key: &quot;shpae&quot;\\n    value {\\n      shape {\\n        dim {\\n          size: 1\\n        }\\n      }\\n    }\\n  }\\n}\\nnode {\\n  name: &quot;Variable20&quot;\\n  op: &quot;Variable&quot;\\n  attr {\\n    key: &quot;dtype&quot;\\n    value {\\n      type: DT_FLOAT\\n    }\\n  }\\n  attr {\\n    key: &quot;shpae&quot;\\n    value {\\n      shape {\\n        dim {\\n          size: 20\\n        }\\n        dim {\\n          size: 10\\n        }\\n        dim {\\n          size: 5\\n        }\\n        dim {\\n          size: 5\\n        }\\n      }\\n    }\\n  }\\n}\\nnode {\\n  name: &quot;Variable21&quot;\\n  op: &quot;Variable&quot;\\n  attr {\\n    key: &quot;dtype&quot;\\n    value {\\n      type: DT_FLOAT\\n    }\\n  }\\n  attr {\\n    key: &quot;shpae&quot;\\n    value {\\n      shape {\\n        dim {\\n          size: 20\\n        }\\n      }\\n    }\\n  }\\n}\\n';\n",
       "        }\n",
       "        </script>\n",
       "        <link rel=&quot;import&quot; href=&quot;https://tensorboard.appspot.com/tf-graph-basic.build.html&quot;\n",
       "          onload=load()>\n",
       "        <div style=&quot;height:600px&quot;>\n",
       "        <tf-graph-basic id=&quot;graph0.6942487973885441&quot;></tf-graph-basic>\n",
       "        </div>\n",
       "    \"></iframe>\n",
       "    "
      ],
      "text/plain": [
       "<IPython.core.display.HTML object>"
      ]
     },
     "metadata": {},
     "output_type": "display_data"
    }
   ],
   "source": [
    "gdef = parse(y)\n",
    "show_graph(gdef)"
   ]
  }
 ],
 "metadata": {
  "kernelspec": {
   "display_name": "Python 3",
   "language": "python",
   "name": "python3"
  },
  "language_info": {
   "codemirror_mode": {
    "name": "ipython",
    "version": 3
   },
   "file_extension": ".py",
   "mimetype": "text/x-python",
   "name": "python",
   "nbconvert_exporter": "python",
   "pygments_lexer": "ipython3",
   "version": "3.6.7"
  }
 },
 "nbformat": 4,
 "nbformat_minor": 2
}
